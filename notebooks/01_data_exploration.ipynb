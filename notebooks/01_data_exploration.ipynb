{
 "cells": [
  {
   "cell_type": "code",
   "execution_count": 1,
   "id": "7fabc880",
   "metadata": {},
   "outputs": [],
   "source": [
    "import pandas as pd\n",
    "import numpy as np \n",
    "import matplotlib.pyplot as plt\n",
    "import seaborn as sns\n",
    "from datetime import datetime\n",
    "import warnings \n",
    "warnings.filterwarnings('ignore')"
   ]
  },
  {
   "cell_type": "code",
   "execution_count": 2,
   "id": "53fcb01f",
   "metadata": {},
   "outputs": [
    {
     "name": "stdout",
     "output_type": "stream",
     "text": [
      "electronics recommendation system\n",
      "==================================================\n"
     ]
    }
   ],
   "source": [
    "print(\"electronics recommendation system\")\n",
    "print(\"=\" * 50)"
   ]
  },
  {
   "cell_type": "code",
   "execution_count": 3,
   "id": "12053968",
   "metadata": {},
   "outputs": [
    {
     "name": "stdout",
     "output_type": "stream",
     "text": [
      "loading electronics dataset...\n",
      "Dataset loaded successfully!\n",
      "Shape: (7824481, 4)\n",
      "Columns: ['AKM1MP6P0OYPR', '0132793040', '5.0', '1365811200']\n"
     ]
    }
   ],
   "source": [
    "#load the dataset \n",
    "print(\"loading electronics dataset...\")\n",
    "try:\n",
    "    # Amazon dataset typically has columns: userId, productId, Rating, timestamp\n",
    "    df = pd.read_csv('../data/raw/ratings_Electronics.csv')\n",
    "    print(f\"Dataset loaded successfully!\")\n",
    "    print(f\"Shape: {df.shape}\")\n",
    "    print(f\"Columns: {list(df.columns)}\")\n",
    "except FileNotFoundError:\n",
    "    print(\" Dataset not found. Please download ratings_Electronics.csv from Kaggle\")\n",
    "    print(\" Link: https://www.kaggle.com/datasets/skillsmuggler/amazon-ratings\")\n",
    "    exit()\n"
   ]
  },
  {
   "cell_type": "code",
   "execution_count": 4,
   "id": "d78f9c93",
   "metadata": {},
   "outputs": [
    {
     "data": {
      "text/html": [
       "<div>\n",
       "<style scoped>\n",
       "    .dataframe tbody tr th:only-of-type {\n",
       "        vertical-align: middle;\n",
       "    }\n",
       "\n",
       "    .dataframe tbody tr th {\n",
       "        vertical-align: top;\n",
       "    }\n",
       "\n",
       "    .dataframe thead th {\n",
       "        text-align: right;\n",
       "    }\n",
       "</style>\n",
       "<table border=\"1\" class=\"dataframe\">\n",
       "  <thead>\n",
       "    <tr style=\"text-align: right;\">\n",
       "      <th></th>\n",
       "      <th>AKM1MP6P0OYPR</th>\n",
       "      <th>0132793040</th>\n",
       "      <th>5.0</th>\n",
       "      <th>1365811200</th>\n",
       "    </tr>\n",
       "  </thead>\n",
       "  <tbody>\n",
       "    <tr>\n",
       "      <th>0</th>\n",
       "      <td>A2CX7LUOHB2NDG</td>\n",
       "      <td>0321732944</td>\n",
       "      <td>5.0</td>\n",
       "      <td>1341100800</td>\n",
       "    </tr>\n",
       "    <tr>\n",
       "      <th>1</th>\n",
       "      <td>A2NWSAGRHCP8N5</td>\n",
       "      <td>0439886341</td>\n",
       "      <td>1.0</td>\n",
       "      <td>1367193600</td>\n",
       "    </tr>\n",
       "    <tr>\n",
       "      <th>2</th>\n",
       "      <td>A2WNBOD3WNDNKT</td>\n",
       "      <td>0439886341</td>\n",
       "      <td>3.0</td>\n",
       "      <td>1374451200</td>\n",
       "    </tr>\n",
       "    <tr>\n",
       "      <th>3</th>\n",
       "      <td>A1GI0U4ZRJA8WN</td>\n",
       "      <td>0439886341</td>\n",
       "      <td>1.0</td>\n",
       "      <td>1334707200</td>\n",
       "    </tr>\n",
       "    <tr>\n",
       "      <th>4</th>\n",
       "      <td>A1QGNMC6O1VW39</td>\n",
       "      <td>0511189877</td>\n",
       "      <td>5.0</td>\n",
       "      <td>1397433600</td>\n",
       "    </tr>\n",
       "  </tbody>\n",
       "</table>\n",
       "</div>"
      ],
      "text/plain": [
       "    AKM1MP6P0OYPR  0132793040  5.0  1365811200\n",
       "0  A2CX7LUOHB2NDG  0321732944  5.0  1341100800\n",
       "1  A2NWSAGRHCP8N5  0439886341  1.0  1367193600\n",
       "2  A2WNBOD3WNDNKT  0439886341  3.0  1374451200\n",
       "3  A1GI0U4ZRJA8WN  0439886341  1.0  1334707200\n",
       "4  A1QGNMC6O1VW39  0511189877  5.0  1397433600"
      ]
     },
     "execution_count": 4,
     "metadata": {},
     "output_type": "execute_result"
    }
   ],
   "source": [
    "df.head()"
   ]
  },
  {
   "cell_type": "code",
   "execution_count": 5,
   "id": "1564c5c8",
   "metadata": {},
   "outputs": [
    {
     "data": {
      "text/plain": [
       "np.float64(-4.0)"
      ]
     },
     "execution_count": 5,
     "metadata": {},
     "output_type": "execute_result"
    }
   ],
   "source": [
    "df.iloc[:, 0].nunique() # unique no. of users \n",
    "df.iloc[:,1].nunique() # unique products \n",
    "df.iloc[:, 2].min() - df.iloc[:, 2].max()"
   ]
  },
  {
   "cell_type": "code",
   "execution_count": null,
   "id": "2426ea1d",
   "metadata": {},
   "outputs": [
    {
     "data": {
      "text/plain": [
       "AKM1MP6P0OYPR    0\n",
       "0132793040       0\n",
       "5.0              0\n",
       "1365811200       0\n",
       "dtype: int64"
      ]
     },
     "execution_count": 6,
     "metadata": {},
     "output_type": "execute_result"
    }
   ],
   "source": [
    "df.isnull().sum() # check for any missing values"
   ]
  },
  {
   "cell_type": "code",
   "execution_count": 7,
   "id": "7c3cbb81",
   "metadata": {},
   "outputs": [
    {
     "name": "stdout",
     "output_type": "stream",
     "text": [
      "\n",
      "📈 Dataset Statistics:\n",
      "Number of users: 4,201,696\n",
      "Number of products: 476,001\n",
      "Number of interactions: 7,824,481\n",
      "Sparsity: 99.9996%\n"
     ]
    }
   ],
   "source": [
    "# Calculate sparsity\n",
    "n_users = df.iloc[:, 0].nunique()\n",
    "n_products = df.iloc[:, 1].nunique()\n",
    "n_interactions = len(df)\n",
    "sparsity = (1 - n_interactions / (n_users * n_products)) * 100\n",
    "\n",
    "print(f\"\\n📈 Dataset Statistics:\")\n",
    "print(f\"Number of users: {n_users:,}\")\n",
    "print(f\"Number of products: {n_products:,}\")\n",
    "print(f\"Number of interactions: {n_interactions:,}\")\n",
    "print(f\"Sparsity: {sparsity:.4f}%\")"
   ]
  },
  {
   "cell_type": "code",
   "execution_count": 8,
   "id": "e013e2af",
   "metadata": {},
   "outputs": [
    {
     "name": "stdout",
     "output_type": "stream",
     "text": [
      "\n",
      "⭐ Rating Distribution:\n",
      "5.0\n",
      "1.0     901765\n",
      "2.0     456322\n",
      "3.0     633073\n",
      "4.0    1485781\n",
      "5.0    4347540\n",
      "Name: count, dtype: int64\n"
     ]
    }
   ],
   "source": [
    "# Rating distribution\n",
    "print(f\"\\n⭐ Rating Distribution:\")\n",
    "rating_col = df.columns[2]  # Usually the rating column\n",
    "rating_counts = df[rating_col].value_counts().sort_index()\n",
    "print(rating_counts)"
   ]
  },
  {
   "cell_type": "code",
   "execution_count": 16,
   "id": "e527082b",
   "metadata": {},
   "outputs": [
    {
     "data": {
      "text/plain": [
       "(array([0, 1, 2, 3, 4]),\n",
       " [Text(0, 0, '1.0'),\n",
       "  Text(1, 0, '2.0'),\n",
       "  Text(2, 0, '3.0'),\n",
       "  Text(3, 0, '4.0'),\n",
       "  Text(4, 0, '5.0')])"
      ]
     },
     "execution_count": 16,
     "metadata": {},
     "output_type": "execute_result"
    },
    {
     "data": {
      "image/png": "[encoded data removed]",
      "text/plain": [
       "<Figure size 1200x400 with 1 Axes>"
      ]
     },
     "metadata": {},
     "output_type": "display_data"
    }
   ],
   "source": [
    "# plotted rating distribution\n",
    "\n",
    "plt.figure(figsize=(12,4))\n",
    "\n",
    "plt.subplot(1,2,1)\n",
    "rating_counts.plot(kind='bar', color = 'steelblue')\n",
    "plt.title('Rating Distribution')\n",
    "plt.xlabel('Rating')\n",
    "plt.ylabel('Count')\n",
    "plt.xticks(rotation=0)"
   ]
  },
  {
   "cell_type": "code",
   "execution_count": 19,
   "id": "cc86394f",
   "metadata": {},
   "outputs": [
    {
     "data": {
      "image/png": "[encoded data removed]",
      "text/plain": [
       "<Figure size 640x480 with 1 Axes>"
      ]
     },
     "metadata": {},
     "output_type": "display_data"
    }
   ],
   "source": [
    "plt.subplot(1,2,2)\n",
    "df[rating_col].hist(bins = 5 , color='lightcoral',alpha=0.7,edgecolor='black')\n",
    "plt.title('rating histogram')\n",
    "plt.xlabel('rating')\n",
    "plt.ylabel('frequency')\n",
    "\n",
    "plt.tight_layout()\n",
    "plt.show()"
   ]
  },
  {
   "cell_type": "code",
   "execution_count": 20,
   "id": "ce7be9f1",
   "metadata": {},
   "outputs": [
    {
     "name": "stdout",
     "output_type": "stream",
     "text": [
      "            avg_rating  num_ratings\n",
      "0132793040                         \n",
      "B002E6R7NG        4.98           51\n",
      "B004I763AW        4.97           60\n",
      "B003J9QQWU        4.96           56\n",
      "B0043ZLFXE        4.96           90\n",
      "B004C4VLZS        4.95           55\n",
      "B000053HC5        4.95          166\n",
      "B000TMFYBO        4.95           64\n",
      "B00CG70K78        4.95          237\n",
      "B0000DYV9H        4.95           76\n",
      "B008I6RVZU        4.95          103\n"
     ]
    }
   ],
   "source": [
    "# top rated products \n",
    "product_stats = df.groupby(df.columns[1]).agg({\n",
    "    rating_col:['mean','count']\n",
    "}).round(2)\n",
    "\n",
    "product_stats.columns = ['avg_rating','num_ratings']\n",
    "top_products = product_stats[product_stats['num_ratings']>=50].sort_values('avg_rating',ascending=False)\n",
    "print(top_products.head(10))"
   ]
  },
  {
   "cell_type": "code",
   "execution_count": 24,
   "id": "2cb88486",
   "metadata": {},
   "outputs": [],
   "source": [
    "user_col = df.columns[0]\n",
    "user_activity = df.groupby(user_col).size()\n",
    "product_col = df.columns[1]\n",
    "product_popularity = df.groupby(product_col).size()"
   ]
  },
  {
   "cell_type": "code",
   "execution_count": 25,
   "id": "846e36c3",
   "metadata": {},
   "outputs": [
    {
     "data": {
      "image/png": "[encoded data removed]",
      "text/plain": [
       "<Figure size 1500x500 with 2 Axes>"
      ]
     },
     "metadata": {},
     "output_type": "display_data"
    }
   ],
   "source": [
    "plt.figure(figsize=(15,5))\n",
    "plt.subplot(1,3,1)\n",
    "user_activity.hist(bins = 50,color='lightblue',alpha=0.7)\n",
    "plt.title('user activity distribution')\n",
    "plt.xlabel('number of ratings')\n",
    "plt.ylabel('number of users')\n",
    "plt.yscale('log')\n",
    "\n",
    "\n",
    "plt.subplot(1, 3, 2)\n",
    "product_popularity.hist(bins=50, color='lightgreen', alpha=0.7)\n",
    "plt.title('Product Popularity Distribution')\n",
    "plt.xlabel('Number of Ratings')\n",
    "plt.ylabel('Number of Products')\n",
    "plt.yscale('log')\n"
   ]
  },
  {
   "cell_type": "code",
   "execution_count": 27,
   "id": "75822921",
   "metadata": {},
   "outputs": [
    {
     "data": {
      "image/png": "[encoded data removed]",
      "text/plain": [
       "<Figure size 640x480 with 1 Axes>"
      ]
     },
     "metadata": {},
     "output_type": "display_data"
    },
    {
     "name": "stdout",
     "output_type": "stream",
     "text": [
      "\n",
      " Creating sample subset for development...\n",
      "Sample dataset size: 12,572\n",
      "Sample users: 995\n",
      "Sample products: 946\n",
      " Sample dataset saved to data/sample/amazon_electronics_sample.csv\n",
      "\n",
      " Key Findings:\n",
      "1. Dataset has 100.00% sparsity - typical for recommendation systems\n",
      "2. Rating distribution shows user preferences\n",
      "3. Many users/products have very few ratings (cold start problem)\n",
      "4. Sample dataset created for faster development\n"
     ]
    }
   ],
   "source": [
    "plt.subplot(1, 3, 3)\n",
    "# Average rating per user\n",
    "user_avg_ratings = df.groupby(user_col)[rating_col].mean()\n",
    "user_avg_ratings.hist(bins=30, color='orange', alpha=0.7)\n",
    "plt.title('User Average Rating Distribution')\n",
    "plt.xlabel('Average Rating')\n",
    "plt.ylabel('Number of Users')\n",
    "\n",
    "plt.tight_layout()\n",
    "plt.show()\n",
    "\n",
    "# Sample subset for initial development\n",
    "print(f\"\\n Creating sample subset for development...\")\n",
    "# Take top 1000 most active users and top 1000 most popular products\n",
    "top_users = user_activity.nlargest(1000).index\n",
    "top_products = product_popularity.nlargest(1000).index\n",
    "\n",
    "sample_df = df[\n",
    "    (df[user_col].isin(top_users)) & \n",
    "    (df[product_col].isin(top_products))\n",
    "].copy()\n",
    "\n",
    "print(f\"Sample dataset size: {len(sample_df):,}\")\n",
    "print(f\"Sample users: {sample_df[user_col].nunique():,}\")\n",
    "print(f\"Sample products: {sample_df[product_col].nunique():,}\")\n",
    "\n",
    "# Save sample dataset\n",
    "sample_df.to_csv('../data/sample/amazon_electronics_sample.csv', index=False)\n",
    "print(\" Sample dataset saved to data/sample/amazon_electronics_sample.csv\")\n",
    "\n",
    "print(f\"\\n Key Findings:\")\n",
    "print(f\"1. Dataset has {sparsity:.2f}% sparsity - typical for recommendation systems\")\n",
    "print(f\"2. Rating distribution shows user preferences\")\n",
    "print(f\"3. Many users/products have very few ratings (cold start problem)\")\n",
    "print(f\"4. Sample dataset created for faster development\")\n",
    "\n"
   ]
  }
 ],
 "metadata": {
  "kernelspec": {
   "display_name": "Python 3",
   "language": "python",
   "name": "python3"
  },
  "language_info": {
   "codemirror_mode": {
    "name": "ipython",
    "version": 3
   },
   "file_extension": ".py",
   "mimetype": "text/x-python",
   "name": "python",
   "nbconvert_exporter": "python",
   "pygments_lexer": "ipython3",
   "version": "3.13.2"
  }
 },
 "nbformat": 4,
 "nbformat_minor": 5
}
